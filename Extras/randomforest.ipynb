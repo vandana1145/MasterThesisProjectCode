{
 "cells": [
  {
   "cell_type": "code",
   "execution_count": 3,
   "id": "af5cf534",
   "metadata": {},
   "outputs": [],
   "source": [
    "import json # will be needed for saving preprocessing details\n",
    "import numpy as np # for data manipulation\n",
    "import pandas as pd # for data manipulation\n",
    "from sklearn.model_selection import train_test_split # will be used for data split\n",
    "from sklearn.impute import SimpleImputer\n",
    "from sklearn.preprocessing import LabelEncoder # for preprocessing\n",
    "from sklearn.preprocessing import MinMaxScaler\n",
    "from imblearn.over_sampling import SMOTE \n",
    "from collections import Counter\n",
    "from sklearn.preprocessing import StandardScaler\n",
    "from sklearn.model_selection import RepeatedStratifiedKFold\n",
    "from sklearn.ensemble import RandomForestClassifier # for training the algorithm\n",
    "from sklearn.model_selection import cross_val_score\n",
    "from numpy import mean\n",
    "from numpy import std\n",
    "from matplotlib import pyplot"
   ]
  },
  {
   "cell_type": "code",
   "execution_count": 4,
   "id": "210cb3dc",
   "metadata": {},
   "outputs": [
    {
     "name": "stdout",
     "output_type": "stream",
     "text": [
      "Shape: (526, 9)\n",
      "   Floor_Num  Total_Floor_Area  Column_Area  Concrete_Wall_AreaNS  \\\n",
      "0        2.0            1797.0         6.21                   0.0   \n",
      "1        1.0             577.0         2.00                   0.0   \n",
      "2        3.0             498.0         1.50                   0.0   \n",
      "3        2.0             310.0         1.40                   0.0   \n",
      "4        3.0             287.0         0.74                   0.0   \n",
      "\n",
      "   Concrete_Wall_AreaEW  Masonry_Wall_AreaNS  Masonry_Wall_AreaEW  \\\n",
      "0                   0.0                 0.00                 9.49   \n",
      "1                   0.0                 0.00                 1.68   \n",
      "2                   0.0                 1.35                 0.40   \n",
      "3                   0.0                 1.02                 0.00   \n",
      "4                   0.0                 3.74                 1.74   \n",
      "\n",
      "   Captive_Columns  Damage_Class  \n",
      "0                1             4  \n",
      "1                0             2  \n",
      "2                0             2  \n",
      "3                0             2  \n",
      "4                1             4  \n",
      "        Floor_Num  Total_Floor_Area  Column_Area  Concrete_Wall_AreaNS  \\\n",
      "count  526.000000        526.000000   523.000000            526.000000   \n",
      "mean     3.185361        683.025929     2.199552              0.276035   \n",
      "std      1.303239       1026.965795     2.052265              1.784575   \n",
      "min      1.000000         75.000000     0.000000              0.000000   \n",
      "25%      2.000000        259.250000     0.900000              0.000000   \n",
      "50%      3.000000        473.500000     1.600000              0.000000   \n",
      "75%      4.000000        796.500000     3.000000              0.000000   \n",
      "max      7.500000      19738.000000    24.560000             37.224000   \n",
      "\n",
      "       Concrete_Wall_AreaEW  Masonry_Wall_AreaNS  Masonry_Wall_AreaEW  \\\n",
      "count            526.000000           526.000000           526.000000   \n",
      "mean               0.261083             2.741601             2.202909   \n",
      "std                2.044375             3.031139             3.254336   \n",
      "min                0.000000             0.000000             0.000000   \n",
      "25%                0.000000             0.592500             0.000000   \n",
      "50%                0.000000             2.240000             1.240000   \n",
      "75%                0.000000             4.000000             2.967500   \n",
      "max               43.920000            27.530000            28.270000   \n",
      "\n",
      "       Captive_Columns  Damage_Class  \n",
      "count       526.000000    526.000000  \n",
      "mean          0.412548      2.914449  \n",
      "std           0.492761      1.066503  \n",
      "min           0.000000      1.000000  \n",
      "25%           0.000000      2.000000  \n",
      "50%           0.000000      3.000000  \n",
      "75%           1.000000      4.000000  \n",
      "max           1.000000      4.000000  \n"
     ]
    }
   ],
   "source": [
    "# load dataset\n",
    "df = pd.read_csv('Data.csv')\n",
    "array = df.values\n",
    "print('Shape:', df.shape)\n",
    "# set input matrix and target column\n",
    "X = array[:, :-1]\n",
    "y = array[:, 6]\n",
    "# show first row of data\n",
    "print(df.head())\n",
    "print(df.describe())"
   ]
  },
  {
   "cell_type": "code",
   "execution_count": 5,
   "id": "f89fc3a1",
   "metadata": {},
   "outputs": [],
   "source": [
    "# taking care of the missing data\n",
    "imputer = SimpleImputer(missing_values = np.nan, strategy = 'mean', verbose = 0)\n",
    "imputer = imputer.fit(X[:, 1:6]) #upper bound is not included, but lower bound\n",
    "X[:, 1:6] = imputer.transform(X[:, 1:6])"
   ]
  },
  {
   "cell_type": "code",
   "execution_count": 6,
   "id": "24b19d30",
   "metadata": {},
   "outputs": [],
   "source": [
    "# encoding the dependent variable\n",
    "labelencoder_Y = LabelEncoder()\n",
    "y = labelencoder_Y.fit_transform(y)"
   ]
  },
  {
   "cell_type": "code",
   "execution_count": 7,
   "metadata": {},
   "outputs": [],
   "source": [
    "# rescale data (between 0 and 1)\n",
    "scaler = MinMaxScaler(feature_range=(0,1))\n",
    "X = scaler.fit_transform(X)"
   ]
  },
  {
   "cell_type": "code",
   "execution_count": 8,
   "metadata": {},
   "outputs": [
    {
     "name": "stdout",
     "output_type": "stream",
     "text": [
      "Class=4.0, Count=224, Percentage=42.586%\n",
      "Class=2.0, Count=161, Percentage=30.608%\n",
      "Class=3.0, Count=87, Percentage=16.540%\n",
      "Class=1.0, Count=54, Percentage=10.266%\n"
     ]
    }
   ],
   "source": [
    "# summarize the class distribution\n",
    "target = df.values[:, -1]\n",
    "counter = Counter(target)\n",
    "for k,v in counter.items():\n",
    "    per = v / len(target) * 100\n",
    "    print('Class=%s, Count=%s, Percentage=%.3f%%' % (k, v, per))"
   ]
  },
  {
   "cell_type": "code",
   "execution_count": 9,
   "metadata": {},
   "outputs": [
    {
     "data": {
      "image/png": "[encoded data removed]",
      "text/plain": [
       "<Figure size 432x288 with 1 Axes>"
      ]
     },
     "metadata": {
      "needs_background": "light"
     },
     "output_type": "display_data"
    }
   ],
   "source": [
    "# plot the distribution\n",
    "pyplot.bar(counter.keys(), counter.values())\n",
    "pyplot.show()"
   ]
  },
  {
   "cell_type": "code",
   "execution_count": 10,
   "metadata": {},
   "outputs": [
    {
     "name": "stdout",
     "output_type": "stream",
     "text": [
      "(526, 8) (526,) Counter({0: 150, 65: 10, 7: 9, 10: 8, 50: 8, 107: 8, 117: 7, 61: 7, 73: 7, 74: 6, 23: 5, 29: 5, 44: 5, 54: 5, 45: 5, 75: 4, 13: 4, 71: 4, 79: 4, 40: 4, 152: 3, 96: 3, 32: 3, 183: 3, 89: 3, 46: 3, 17: 3, 94: 3, 111: 3, 85: 3, 128: 3, 83: 3, 98: 3, 9: 3, 70: 2, 147: 2, 88: 2, 47: 2, 177: 2, 31: 2, 108: 2, 221: 2, 90: 2, 173: 2, 180: 2, 167: 2, 42: 2, 113: 2, 143: 2, 24: 2, 122: 2, 136: 2, 151: 2, 34: 2, 145: 2, 188: 2, 104: 2, 101: 2, 166: 2, 126: 2, 25: 2, 8: 2, 14: 2, 60: 2, 18: 2, 206: 1, 118: 1, 134: 1, 121: 1, 86: 1, 49: 1, 141: 1, 182: 1, 189: 1, 187: 1, 138: 1, 120: 1, 142: 1, 209: 1, 77: 1, 153: 1, 210: 1, 195: 1, 164: 1, 131: 1, 144: 1, 184: 1, 91: 1, 217: 1, 158: 1, 100: 1, 99: 1, 123: 1, 39: 1, 133: 1, 1: 1, 15: 1, 148: 1, 135: 1, 216: 1, 4: 1, 214: 1, 48: 1, 105: 1, 66: 1, 198: 1, 192: 1, 175: 1, 219: 1, 150: 1, 80: 1, 176: 1, 186: 1, 110: 1, 11: 1, 163: 1, 165: 1, 27: 1, 169: 1, 172: 1, 20: 1, 130: 1, 43: 1, 41: 1, 178: 1, 181: 1, 154: 1, 204: 1, 215: 1, 174: 1, 211: 1, 156: 1, 194: 1, 202: 1, 112: 1, 103: 1, 16: 1, 208: 1, 22: 1, 205: 1, 207: 1, 64: 1, 213: 1, 30: 1, 129: 1, 159: 1, 127: 1, 97: 1, 149: 1, 197: 1, 179: 1, 220: 1, 146: 1, 114: 1, 157: 1, 185: 1, 196: 1, 170: 1, 190: 1, 140: 1, 201: 1, 125: 1, 203: 1, 200: 1, 3: 1, 168: 1, 212: 1, 193: 1, 191: 1, 124: 1, 6: 1, 36: 1, 199: 1, 87: 1, 218: 1, 52: 1, 81: 1, 155: 1, 57: 1, 109: 1, 62: 1, 160: 1, 12: 1, 76: 1, 56: 1, 162: 1, 38: 1, 119: 1, 102: 1, 171: 1, 139: 1, 116: 1, 137: 1, 26: 1, 5: 1, 58: 1, 51: 1, 21: 1, 2: 1, 33: 1, 68: 1, 82: 1, 161: 1, 132: 1, 55: 1, 19: 1, 59: 1, 28: 1, 95: 1, 92: 1, 78: 1, 93: 1, 37: 1, 106: 1, 63: 1, 115: 1, 53: 1, 72: 1, 84: 1, 67: 1, 35: 1, 69: 1})\n"
     ]
    }
   ],
   "source": [
    "# Re-summarize class distribution\n",
    "print(X.shape, y.shape,Counter(y))"
   ]
  },
  {
   "cell_type": "code",
   "execution_count": 12,
   "metadata": {},
   "outputs": [
    {
     "name": "stderr",
     "output_type": "stream",
     "text": [
      "C:\\Users\\DELL\\anaconda3\\lib\\site-packages\\imblearn\\utils\\_validation.py:587: FutureWarning: Pass sampling_strategy=minority as keyword args. From version 0.9 passing these as positional arguments will result in an error\n",
      "  warnings.warn(\n"
     ]
    },
    {
     "ename": "ValueError",
     "evalue": "Expected n_neighbors <= n_samples,  but n_samples = 1, n_neighbors = 6",
     "output_type": "error",
     "traceback": [
      "\u001b[1;31m---------------------------------------------------------------------------\u001b[0m",
      "\u001b[1;31mValueError\u001b[0m                                Traceback (most recent call last)",
      "\u001b[1;32m<ipython-input-12-9d5532f18654>\u001b[0m in \u001b[0;36m<module>\u001b[1;34m\u001b[0m\n\u001b[0;32m      1\u001b[0m \u001b[1;31m# Implementing SMOTE for the Imbalanced data in Multi-class classification\u001b[0m\u001b[1;33m\u001b[0m\u001b[1;33m\u001b[0m\u001b[1;33m\u001b[0m\u001b[0m\n\u001b[0;32m      2\u001b[0m \u001b[0msmote\u001b[0m\u001b[1;33m=\u001b[0m\u001b[0mSMOTE\u001b[0m\u001b[1;33m(\u001b[0m\u001b[1;34m\"minority\"\u001b[0m\u001b[1;33m)\u001b[0m\u001b[1;33m\u001b[0m\u001b[1;33m\u001b[0m\u001b[0m\n\u001b[1;32m----> 3\u001b[1;33m \u001b[0mX\u001b[0m\u001b[1;33m,\u001b[0m\u001b[0my\u001b[0m\u001b[1;33m=\u001b[0m\u001b[0msmote\u001b[0m\u001b[1;33m.\u001b[0m\u001b[0mfit_resample\u001b[0m\u001b[1;33m(\u001b[0m\u001b[0mX\u001b[0m\u001b[1;33m,\u001b[0m\u001b[0my\u001b[0m\u001b[1;33m)\u001b[0m\u001b[1;33m\u001b[0m\u001b[1;33m\u001b[0m\u001b[0m\n\u001b[0m",
      "\u001b[1;32m~\\anaconda3\\lib\\site-packages\\imblearn\\base.py\u001b[0m in \u001b[0;36mfit_resample\u001b[1;34m(self, X, y)\u001b[0m\n\u001b[0;32m     81\u001b[0m         )\n\u001b[0;32m     82\u001b[0m \u001b[1;33m\u001b[0m\u001b[0m\n\u001b[1;32m---> 83\u001b[1;33m         \u001b[0moutput\u001b[0m \u001b[1;33m=\u001b[0m \u001b[0mself\u001b[0m\u001b[1;33m.\u001b[0m\u001b[0m_fit_resample\u001b[0m\u001b[1;33m(\u001b[0m\u001b[0mX\u001b[0m\u001b[1;33m,\u001b[0m \u001b[0my\u001b[0m\u001b[1;33m)\u001b[0m\u001b[1;33m\u001b[0m\u001b[1;33m\u001b[0m\u001b[0m\n\u001b[0m\u001b[0;32m     84\u001b[0m \u001b[1;33m\u001b[0m\u001b[0m\n\u001b[0;32m     85\u001b[0m         y_ = (\n",
      "\u001b[1;32m~\\anaconda3\\lib\\site-packages\\imblearn\\over_sampling\\_smote\\base.py\u001b[0m in \u001b[0;36m_fit_resample\u001b[1;34m(self, X, y)\u001b[0m\n\u001b[0;32m    307\u001b[0m \u001b[1;33m\u001b[0m\u001b[0m\n\u001b[0;32m    308\u001b[0m             \u001b[0mself\u001b[0m\u001b[1;33m.\u001b[0m\u001b[0mnn_k_\u001b[0m\u001b[1;33m.\u001b[0m\u001b[0mfit\u001b[0m\u001b[1;33m(\u001b[0m\u001b[0mX_class\u001b[0m\u001b[1;33m)\u001b[0m\u001b[1;33m\u001b[0m\u001b[1;33m\u001b[0m\u001b[0m\n\u001b[1;32m--> 309\u001b[1;33m             \u001b[0mnns\u001b[0m \u001b[1;33m=\u001b[0m \u001b[0mself\u001b[0m\u001b[1;33m.\u001b[0m\u001b[0mnn_k_\u001b[0m\u001b[1;33m.\u001b[0m\u001b[0mkneighbors\u001b[0m\u001b[1;33m(\u001b[0m\u001b[0mX_class\u001b[0m\u001b[1;33m,\u001b[0m \u001b[0mreturn_distance\u001b[0m\u001b[1;33m=\u001b[0m\u001b[1;32mFalse\u001b[0m\u001b[1;33m)\u001b[0m\u001b[1;33m[\u001b[0m\u001b[1;33m:\u001b[0m\u001b[1;33m,\u001b[0m \u001b[1;36m1\u001b[0m\u001b[1;33m:\u001b[0m\u001b[1;33m]\u001b[0m\u001b[1;33m\u001b[0m\u001b[1;33m\u001b[0m\u001b[0m\n\u001b[0m\u001b[0;32m    310\u001b[0m             X_new, y_new = self._make_samples(\n\u001b[0;32m    311\u001b[0m                 \u001b[0mX_class\u001b[0m\u001b[1;33m,\u001b[0m \u001b[0my\u001b[0m\u001b[1;33m.\u001b[0m\u001b[0mdtype\u001b[0m\u001b[1;33m,\u001b[0m \u001b[0mclass_sample\u001b[0m\u001b[1;33m,\u001b[0m \u001b[0mX_class\u001b[0m\u001b[1;33m,\u001b[0m \u001b[0mnns\u001b[0m\u001b[1;33m,\u001b[0m \u001b[0mn_samples\u001b[0m\u001b[1;33m,\u001b[0m \u001b[1;36m1.0\u001b[0m\u001b[1;33m\u001b[0m\u001b[1;33m\u001b[0m\u001b[0m\n",
      "\u001b[1;32m~\\anaconda3\\lib\\site-packages\\sklearn\\neighbors\\_base.py\u001b[0m in \u001b[0;36mkneighbors\u001b[1;34m(self, X, n_neighbors, return_distance)\u001b[0m\n\u001b[0;32m    678\u001b[0m         \u001b[0mn_samples_fit\u001b[0m \u001b[1;33m=\u001b[0m \u001b[0mself\u001b[0m\u001b[1;33m.\u001b[0m\u001b[0mn_samples_fit_\u001b[0m\u001b[1;33m\u001b[0m\u001b[1;33m\u001b[0m\u001b[0m\n\u001b[0;32m    679\u001b[0m         \u001b[1;32mif\u001b[0m \u001b[0mn_neighbors\u001b[0m \u001b[1;33m>\u001b[0m \u001b[0mn_samples_fit\u001b[0m\u001b[1;33m:\u001b[0m\u001b[1;33m\u001b[0m\u001b[1;33m\u001b[0m\u001b[0m\n\u001b[1;32m--> 680\u001b[1;33m             raise ValueError(\n\u001b[0m\u001b[0;32m    681\u001b[0m                 \u001b[1;34m\"Expected n_neighbors <= n_samples, \"\u001b[0m\u001b[1;33m\u001b[0m\u001b[1;33m\u001b[0m\u001b[0m\n\u001b[0;32m    682\u001b[0m                 \u001b[1;34m\" but n_samples = %d, n_neighbors = %d\"\u001b[0m \u001b[1;33m%\u001b[0m\u001b[1;33m\u001b[0m\u001b[1;33m\u001b[0m\u001b[0m\n",
      "\u001b[1;31mValueError\u001b[0m: Expected n_neighbors <= n_samples,  but n_samples = 1, n_neighbors = 6"
     ]
    }
   ],
   "source": [
    "# Implementing SMOTE for the Imbalanced data in Multi-class classification\n",
    "smote=SMOTE(\"minority\")\n",
    "X,y=smote.fit_resample(X,y)"
   ]
  },
  {
   "cell_type": "code",
   "execution_count": null,
   "metadata": {},
   "outputs": [],
   "source": [
    "print(X.shape, y.shape, Counter(y))"
   ]
  },
  {
   "cell_type": "code",
   "execution_count": null,
   "metadata": {},
   "outputs": [],
   "source": [
    "# To balance another minority class\n",
    "smote=SMOTE(\"minority\")\n",
    "X,y=smote.fit_resample(X,y)\n"
   ]
  },
  {
   "cell_type": "code",
   "execution_count": null,
   "metadata": {},
   "outputs": [],
   "source": [
    "# Re-summarize class distribution\n",
    "print(X.shape, y.shape,Counter(y))"
   ]
  },
  {
   "cell_type": "code",
   "execution_count": null,
   "id": "dd4612c9",
   "metadata": {},
   "outputs": [],
   "source": [
    "# data split train/test\n",
    "X_train, X_test, y_train, y_test = train_test_split(X,y, test_size = 0.25, random_state=1234)"
   ]
  },
  {
   "cell_type": "code",
   "execution_count": null,
   "metadata": {},
   "outputs": [],
   "source": [
    "# Feature Scaling - \n",
    "sc = StandardScaler()\n",
    "X_train = sc.fit_transform(X_train)\n",
    "X_test = sc.transform(X_test)"
   ]
  },
  {
   "cell_type": "code",
   "execution_count": null,
   "metadata": {},
   "outputs": [],
   "source": [
    "# get a list of models to evaluate\n",
    "def get_models():\n",
    "    models = dict()\n",
    "    models['1'] = RandomForestClassifier(max_features=1)\n",
    "    models['2'] = RandomForestClassifier(max_features=2)\n",
    "    models['3'] = RandomForestClassifier(max_features=3)\n",
    "    models['4'] = RandomForestClassifier(max_features=4)\n",
    "    models['5'] = RandomForestClassifier(max_features=5)\n",
    "    models['6'] = RandomForestClassifier(max_features=6)\n",
    "    return models  "
   ]
  },
  {
   "cell_type": "code",
   "execution_count": null,
   "metadata": {},
   "outputs": [],
   "source": [
    "# evaluate a give model using cross-validation\n",
    "from sklearn.model_selection import cross_val_score\n",
    "def evaluate_model(model):\n",
    "    cv = RepeatedStratifiedKFold(n_splits=10, n_repeats=3, random_state=1)\n",
    "    scores = cross_val_score(model, X_train, y_train, scoring='accuracy', cv=cv, n_jobs=-1, error_score='raise')\n",
    "    return scores"
   ]
  },
  {
   "cell_type": "code",
   "execution_count": null,
   "metadata": {},
   "outputs": [],
   "source": [
    "# get the models to evaluate\n",
    "models = get_models()"
   ]
  },
  {
   "cell_type": "code",
   "execution_count": null,
   "metadata": {},
   "outputs": [],
   "source": [
    "# evaluate the models and store results\n",
    "results, names = list(), list()\n",
    "for name, model in models.items():\n",
    "    scores = evaluate_model(model)\n",
    "    results.append(scores)\n",
    "    names.append(name)\n",
    "    print('%s %.3f (%.3f)' % (name, mean(scores), std(scores)))"
   ]
  },
  {
   "cell_type": "code",
   "execution_count": null,
   "metadata": {},
   "outputs": [],
   "source": [
    "# plot model performance for comparison\n",
    "pyplot.boxplot(results, labels=names, showmeans=True)\n",
    "pyplot.xticks(rotation=45)\n",
    "pyplot.show()"
   ]
  },
  {
   "cell_type": "code",
   "execution_count": null,
   "metadata": {},
   "outputs": [],
   "source": [
    "model.fit(X_train, y_train)"
   ]
  },
  {
   "cell_type": "code",
   "execution_count": null,
   "metadata": {},
   "outputs": [],
   "source": [
    "# Predicting the Test set results\n",
    "y_pred = model.predict(X_test)"
   ]
  },
  {
   "cell_type": "code",
   "execution_count": null,
   "metadata": {},
   "outputs": [],
   "source": [
    "# Making the Confusion Matrix\n",
    "from sklearn.metrics import confusion_matrix\n",
    "cm = confusion_matrix(y_test, y_pred)"
   ]
  },
  {
   "cell_type": "code",
   "execution_count": null,
   "metadata": {},
   "outputs": [],
   "source": []
  }
 ],
 "metadata": {
  "interpreter": {
   "hash": "cd8ac7ed5329ff1f59a8356dfddf06d159cf18414acbfd7b13d1d5cd1cbb5d7d"
  },
  "kernelspec": {
   "display_name": "Python 3.8.5 64-bit ('anaconda3': virtualenv)",
   "language": "python",
   "name": "python3"
  },
  "language_info": {
   "codemirror_mode": {
    "name": "ipython",
    "version": 3
   },
   "file_extension": ".py",
   "mimetype": "text/x-python",
   "name": "python",
   "nbconvert_exporter": "python",
   "pygments_lexer": "ipython3",
   "version": "3.8.8"
  },
  "metadata": {
   "interpreter": {
    "hash": "1949c0c6eb6f836478006a9f6300681a60cd2c2e9487a6098efe3997da41e417"
   }
  }
 },
 "nbformat": 4,
 "nbformat_minor": 5
}
